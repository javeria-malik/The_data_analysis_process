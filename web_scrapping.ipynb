{
  "nbformat": 4,
  "nbformat_minor": 0,
  "metadata": {
    "colab": {
      "provenance": []
    },
    "kernelspec": {
      "name": "python3",
      "display_name": "Python 3"
    },
    "language_info": {
      "name": "python"
    }
  },
  "cells": [
    {
      "cell_type": "code",
      "execution_count": 1,
      "metadata": {
        "id": "EBip7ijZMZmR"
      },
      "outputs": [],
      "source": [
        "import pandas as pd"
      ]
    },
    {
      "cell_type": "code",
      "source": [
        "import requests"
      ],
      "metadata": {
        "id": "r4kmDfXiMhQR"
      },
      "execution_count": 2,
      "outputs": []
    },
    {
      "cell_type": "code",
      "source": [
        "from bs4 import BeautifulSoup"
      ],
      "metadata": {
        "id": "WH18dXGqMj3S"
      },
      "execution_count": 4,
      "outputs": []
    },
    {
      "cell_type": "code",
      "source": [
        "requests.get(\"https://www.snackmagic.com/client-employee-appreciation?&QueryString=ambitious%20box%20website%20companies&msclkid=d9e3f6596f131f767ac992906c96995c&utm_source=bing&utm_medium=cpc&utm_campaign=Budget%20ID%3A%20201%20-%20Client%20Gifts%20-%20Smart&utm_term=%2Bcompany%20%2Bgifts&utm_content=Client%20Gifts\")"
      ],
      "metadata": {
        "colab": {
          "base_uri": "https://localhost:8080/"
        },
        "id": "MUdM1qNXMskX",
        "outputId": "8e625fe9-9aab-4f6e-e825-fe67a2c722a7"
      },
      "execution_count": 6,
      "outputs": [
        {
          "output_type": "execute_result",
          "data": {
            "text/plain": [
              "<Response [200]>"
            ]
          },
          "metadata": {},
          "execution_count": 6
        }
      ]
    },
    {
      "cell_type": "code",
      "source": [
        "requests.get(\"https://www.snackmagic.com/client-employee-appreciation?&QueryString=ambitious%20box%20website%20companies&msclkid=d9e3f6596f131f767ac992906c96995c&utm_source=bing&utm_medium=cpc&utm_campaign=Budget%20ID%3A%20201%20-%20Client%20Gifts%20-%20Smart&utm_term=%2Bcompany%20%2Bgifts&utm_content=Client%20Gifts\").text"
      ],
      "metadata": {
        "colab": {
          "base_uri": "https://localhost:8080/",
          "height": 105
        },
        "id": "9PG5Z-9zM9QS",
        "outputId": "c79a0fd4-81da-437e-adc3-6ee5f7f2d5d6"
      },
      "execution_count": 7,
      "outputs": [
        {
          "output_type": "execute_result",
          "data": {
            "text/plain": [
              "'<!doctype html><html lang=\"en\"><head><meta charset=\"utf-8\"/><meta name=\"keywords\" content=\"Snacks at Home, Snack Delivery, Snack Boxes, Build Your Own SnackStash, SnackStash, SnackMagic by Stadium, WFH, Work for home, Work-from-home\"/><meta name=\"viewport\" content=\"width=device-width,initial-scale=1,shrink-to-fit=no,maximum-scale=1,user-scalable=no\"/><meta name=\"theme-color\" content=\"#ffffff\"/><meta name=\"facebook-domain-verification\" content=\"h95xxa1fblar002w63thx11pwlihwt\"/><script type=\"text/javascript\" src=\"https://cookie-cdn.cookiepro.com/consent/da197839-fe59-472b-ace0-15e2af16ea1d-test/OtAutoBlock.js\" class=\"optanon-category-C0001\"></script><script src=\"https://cookie-cdn.cookiepro.com/scripttemplates/otSDKStub.js\" type=\"text/javascript\" charset=\"UTF-8\" data-domain-script=\"da197839-fe59-472b-ace0-15e2af16ea1d-test\"></script><script type=\"text/javascript\">function OptanonWrapper(){}</script><script>document.addEventListener(\"DOMContentLoaded\",(function(){var e=document.querySelectorAll(\"#onetrust-accept-btn-handler, #accept-recommended-btn-handler, .save-preference-btn-handler.onetrust-close-btn-handler\");e&&e.length&&e.forEach((function(e){e.addEventListener(\"click\",(function(){window.location.reload()}))}))}))</script><link rel=\"preload\" as=\"font\" href=\"https://fonts.gstatic.com/s/permanentmarker/v9/Fh4uPib9Iyv2ucM6pGQMWimMp004La2Cf5b6jlg.woff2\" type=\"font/woff2\" crossorigin/><link rel=\"preload\" as=\"font\" href=\"https://fonts.gstatic.com/s/overpass/v4/qFdH35WCmI96Ajtm81GrU9vgwBcIs1s.woff2\" type=\"font/woff2\" crossorigin/><link rel=\"preload\" as=\"font\" href=\"https://fonts.gstatic.com/s/overpass/v4/qFdH35WCmI96Ajtm81GlU9vgwBcI.woff2\" type=\"font/woff2\" crossorigin/><link rel=\"preload\" as=\"font\" href=\"https://fonts.gstatic.com/s/overpass/v4/qFdA35WCmI96Ajtm81keds7D4hoiiVI6DLE.woff2\" type=\"font/woff2\" crossorigin/><link rel=\"preload\" as=\"font\" href=\"https://fonts.gstatic.com/s/overpass/v4/qFdA35WCmI96Ajtm81keds7N4hoiiVI6.woff2\" type=\"font/woff2\" crossorigin/><link href=\"https://fecdn.snackmagic.com/static/media/snackmagic.5998020a.woff\" rel=\"preload\" as=\"font\" type=\"font/woff\" crossorigin/><link href=\"https://fecdn.snackmagic.com/static/media/snackmagic.f573d4ea.ttf\" rel=\"preload\" as=\"font\" type=\"font/ttf\" crossorigin/><link href=\"https://fecdn.snackmagic.com/static/media/share-stash.9c34cf9e.woff\" rel=\"preload\" as=\"font\" type=\"font/woff\" crossorigin/><link href=\"https://fecdn.snackmagic.com/static/media/share-stash.bd325519.ttf\" rel=\"preload\" as=\"font\" type=\"font/ttf\" crossorigin/><link href=\"https://fecdn.snackmagic.com/static/media/slick.29518378.woff\" rel=\"preload\" as=\"font\" type=\"font/woff\" crossorigin/><link href=\"https://fecdn.snackmagic.com/static/media/slick.c94f7671.ttf\" rel=\"preload\" as=\"font\" type=\"font/ttf\" crossorigin/><link href=\"https://fecdn.snackmagic.com/static/media/sm-stadium.9a192141.woff\" rel=\"preload\" as=\"font\" type=\"font/woff\" crossorigin/><link href=\"https://fecdn.snackmagic.com/static/media/sm-stadium.19ea0f2a.ttf\" rel=\"preload\" as=\"font\" type=\"font/ttf\" crossorigin/><link href=\"https://fecdn.snackmagic.com/static/media/sm-v2.bcecf91d.woff\" rel=\"preload\" as=\"font\" type=\"font/woff\" crossorigin/><link href=\"https://fecdn.snackmagic.com/static/media/sm-v2.fb0168f1.ttf\" rel=\"preload\" as=\"font\" type=\"font/ttf\" crossorigin/><link href=\"https://fecdn.snackmagic.com/static/media/snackmagic.da69df81.ttf\" rel=\"preload\" as=\"font\" type=\"font/ttf\" crossorigin/><link href=\"https://fecdn.snackmagic.com/static/media/snackmagic.c7f4fd47.woff\" rel=\"preload\" as=\"font\" type=\"font/woff\" crossorigin/><link href=\"https://fecdn.snackmagic.com/static/media/sm-treat-dashboard.027141e3.woff\" rel=\"preload\" as=\"font\" type=\"font/woff\" crossorigin/><link href=\"https://fecdn.snackmagic.com/static/media/sm-treat-dashboard.d888e69a.ttf\" rel=\"preload\" as=\"font\" type=\"font/ttf\" crossorigin/><link href=\"https://fecdn.snackmagic.com/static/media/prismic-icons.be557a79.woff\" rel=\"preload\" as=\"font\" type=\"font/woff\" crossorigin/><link href=\"https://fecdn.snackmagic.com/static/media/prismic-icons.d53acab6.ttf\" rel=\"preload\" as=\"font\" type=\"font/ttf\" crossorigin/><link href=\"https://fecdn.snackmagic.com/static/media/Overpass-ExtraLight.85890527.woff2\" rel=\"preload\" as=\"font\" type=\"font/woff\" crossorigin/><link href=\"https://fecdn.snackmagic.com/static/media/Overpass-ExtraLight.560f3ab7.woff\" rel=\"preload\" as=\"font\" type=\"font/woff\" crossorigin/><link href=\"https://fecdn.snackmagic.com/static/media/Overpass-Regular.7f01285d.woff2\" rel=\"preload\" as=\"font\" type=\"font/woff\" crossorigin/><link href=\"https://fecdn.snackmagic.com/static/media/Overpass-Thin.a161b591.woff2\" rel=\"preload\" as=\"font\" type=\"font/woff\" crossorigin/><link href=\"https://fecdn.snackmagic.com/static/media/Overpass-Regular.4a55f338.woff\" rel=\"preload\" as=\"font\" type=\"font/woff\" crossorigin/><link href=\"https://fecdn.snackmagic.com/static/media/Overpass-Thin.d8ed2ae8.woff\" rel=\"preload\" as=\"font\" type=\"font/woff\" crossorigin/><link href=\"https://fecdn.snackmagic.com/static/media/Overpass-Light.a5534d7b.woff\" rel=\"preload\" as=\"font\" type=\"font/woff\" crossorigin/><link href=\"https://fecdn.snackmagic.com/static/media/Overpass-SemiBold.9d7a1940.woff2\" rel=\"preload\" as=\"font\" type=\"font/woff\" crossorigin/><link href=\"https://fecdn.snackmagic.com/static/media/Overpass-Light.81c963e9.woff2\" rel=\"preload\" as=\"font\" type=\"font/woff\" crossorigin/><link href=\"https://fecdn.snackmagic.com/static/media/Overpass-SemiBold.ec2bef1b.woff\" rel=\"preload\" as=\"font\" type=\"font/woff\" crossorigin/><link href=\"https://fecdn.snackmagic.com/static/media/Overpass-Medium.feaa4504.woff2\" rel=\"preload\" as=\"font\" type=\"font/woff\" crossorigin/><link href=\"https://fecdn.snackmagic.com/static/media/Overpass-Medium.22fa21bb.woff\" rel=\"preload\" as=\"font\" type=\"font/woff\" crossorigin/><link href=\"https://fecdn.snackmagic.com/static/media/Overpass-Bold.59a7c5ff.woff2\" rel=\"preload\" as=\"font\" type=\"font/woff\" crossorigin/><link href=\"https://fecdn.snackmagic.com/static/media/Overpass-ExtraBold.5b484363.woff2\" rel=\"preload\" as=\"font\" type=\"font/woff\" crossorigin/><link href=\"https://fecdn.snackmagic.com/static/media/Overpass-Bold.c00d7d24.woff\" rel=\"preload\" as=\"font\" type=\"font/woff\" crossorigin/><link href=\"https://fecdn.snackmagic.com/static/media/Overpass-ExtraBold.1c0ae3a7.woff\" rel=\"preload\" as=\"font\" type=\"font/woff\" crossorigin/><link href=\"https://fecdn.snackmagic.com/static/media/icons.898c7887.woff2\" rel=\"preload\" as=\"font\" type=\"font/woff\" crossorigin/><link href=\"https://fecdn.snackmagic.com/static/media/icons.7aa83cb1.woff\" rel=\"preload\" as=\"font\" type=\"font/woff\" crossorigin/><link href=\"https://fecdn.snackmagic.com/static/media/Overpass-Regular.329be2e0.ttf\" rel=\"preload\" as=\"font\" type=\"font/ttf\" crossorigin/><link rel=\"preload\" href=\"https://fecdn.snackmagic.com/static/media/snack-magic-logo.42f0cbaf.svg\" as=\"image\" type=\"image/svg+xml\"/><link rel=\"shortcut icon\" href=\"/sm_favicon.ico\" crossorigin/><link rel=\"preconnect\" href=\"https://www.snackmagic.com\"/><link rel=\"dns-prefetch\" href=\"https://www.snackmagic.com\"/><link rel=\"preconnect\" href=\"https://snackmagic.prismic.io\"/><link rel=\"dns-prefetch\" href=\"https://snackmagic.prismic.io\"/><link rel=\"preconnect\" href=\"https://m.stripe.com\"/><link rel=\"dns-prefetch\" href=\"https://m.stripe.com\"/><link rel=\"preconnect\" href=\"https://fonts.googleapis.com\"/><link rel=\"dns-prefetch\" href=\"https://fonts.googleapis.com\"/><link rel=\"preconnect\" href=\"https://js.hsadspixel.net\"/><link rel=\"dns-prefetch\" href=\"https://js.hsadspixel.net\"/><link rel=\"preconnect\" href=\"https://api.hubapi.com\"/><link rel=\"dns-prefetch\" href=\"https://api.hubapi.com\"/><link rel=\"preconnect\" href=\"https://px.ads.linkedin.com\"/><link rel=\"dns-prefetch\" href=\"https://px.ads.linkedin.com\"/><link rel=\"preconnect\" href=\"https://p.adsymptotic.com\"/><link rel=\"dns-prefetch\" href=\"https://p.adsymptotic.com\"/><link rel=\"preconnect\" href=\"https://js.hs-banner.com\"/><link rel=\"dns-prefetch\" href=\"https://js.hs-banner.com\"/><link rel=\"preconnect\" href=\"https://js.hs-analytics.net\"/><link rel=\"dns-prefetch\" href=\"https://js.hs-analytics.net\"/><link rel=\"preconnect\" href=\"https://googleads.g.doubleclick.net\"/><link rel=\"dns-prefetch\" href=\"https://googleads.g.doubleclick.net\"/><link rel=\"preconnect\" href=\"https://www.google.com\"/><link rel=\"dns-prefetch\" href=\"https://www.google.com\"/><link rel=\"preconnect\" href=\"https://snap.licdn.com\"/><link rel=\"dns-prefetch\" href=\"https://snap.licdn.com\"/><link rel=\"preconnect\" href=\"https://track.hubspot.com\"/><link rel=\"dns-prefetch\" href=\"https://track.hubspot.com\"/><link rel=\"preconnect\" href=\"https://www.googleadservices.com\"/><link rel=\"dns-prefetch\" href=\"https://www.googleadservices.com\"/><link rel=\"preconnect\" href=\"https://stats.g.doubleclick.net\"/><link rel=\"dns-prefetch\" href=\"https://stats.g.doubleclick.net\"/><link rel=\"preconnect\" href=\"https://player.vimeo.com\"/><link rel=\"dns-prefetch\" href=\"https://player.vimeo.com\"/><link rel=\"alternate\" href=\"https://www.snackmagic.com\" hreflang=\"en-us\"/><link rel=\"alternate\" href=\"https://www.snackmagic.com/sg/en\" hreflang=\"en-sg\"/><link rel=\"alternate\" href=\"https://www.snackmagic.com/in/en\" hreflang=\"en-in\"/><link rel=\"alternate\" href=\"https://www.snackmagic.com\" hreflang=\"x-default\"/><link rel=\"apple-touch-icon\" sizes=\"180x180\" href=\"/images/apple-touch-icon.png\"/><link rel=\"icon\" type=\"image/png\" sizes=\"32x32\" href=\"/images/favicon-32x32.png\"/><link rel=\"icon\" type=\"image/png\" sizes=\"16x16\" href=\"/images/favicon-16x16.png\"/><link rel=\"manifest\" href=\"/manifest.json\" crossorigin/><meta name=\"msapplication-TileColor\" content=\"#da532c\"/><script type=\"text/javascript\" src=\"https://polyfill.io/v3/polyfill.min.js?features=Promise%2CIntersectionObserver%2CPromise.prototype.finally%2CElement.prototype.append%2CString.prototype.replaceAll\" data-ot-ignore></script><script async src=\"https://www.googletagmanager.com/gtag/js?id=AW-921414792\" class=\"optanon-category-C0001\" data-ot-ignore></script><script data-ot-ignore class=\"optanon-category-C0001\">function gtag(){dataLayer.push(arguments)}window.dataLayer=window.dataLayer||[],gtag(\"js\",new Date),gtag(\"config\",\"AW-921414792\"),gtag(\"consent\",\"default\",{ad_storage:\"denied\",analytics_storage:\"denied\",functionality_storage:\"denied\",personalization_storage:\"denied\",security_storage:\"denied\"})</script><script type=\"text/javascript\" class=\"optanon-category-C0004\">!function(e,t,n,a,c,o,f){e.fbq||(c=e.fbq=function(){c.callMethod?c.callMethod.apply(c,arguments):c.queue.push(arguments)},e._fbq||(e._fbq=c),c.push=c,c.loaded=!0,c.version=\"2.0\",c.queue=[],(o=t.createElement(n)).defer=!0,o.src=\"https://connect.facebook.net/en_US/fbevents.js\",o.setAttribute(\"type\",\"text/javascript\"),(f=t.getElementsByTagName(n)[0]).parentNode.insertBefore(o,f))}(window,document,\"script\"),fbq(\"init\",\"237507227514189\"),fbq(\"track\",\"PageView\")</script><noscript><img height=\"1\" width=\"1\" src=\"https://www.facebook.com/tr?id=237507227514189&ev=PageView\\n    &noscript=1\"/></noscript><script type=\"text/javascript\" defer=\"defer\" data-ot-ignore src=\"https://fecdn.snackmagic.com/static/js/runtime.9fd097d7.js\"></script><script type=\"text/javascript\" defer=\"defer\" data-ot-ignore src=\"https://fecdn.snackmagic.com/static/js/react-node-static.17e73ad6.js\"></script><script type=\"text/javascript\" defer=\"defer\" data-ot-ignore src=\"https://fecdn.snackmagic.com/static/js/sentry-static.c9f30092.js\"></script><script type=\"text/javascript\" defer=\"defer\" data-ot-ignore src=\"https://fecdn.snackmagic.com/static/js/node-static.bd54193e.js\"></script><script type=\"text/javascript\" defer=\"defer\" data-ot-ignore src=\"https://fecdn.snackmagic.com/static/js/main.d317354d.js\"></script><link href=\"https://fecdn.snackmagic.com/static/css/react-node-static.b8a37157.css\" rel=\"stylesheet\"/><link href=\"https://fecdn.snackmagic.com/static/css/node-static.cfe3a0b1.css\" rel=\"stylesheet\"/><link href=\"https://fecdn.snackmagic.com/static/css/main.bfce8aee.css\" rel=\"stylesheet\"/></head><body><noscript>You need to enable JavaScript to run this app.</noscript><div id=\"root\"></div><script type=\"text/javascript\">_linkedin_partner_id=\"2725578\",window._linkedin_data_partner_ids=window._linkedin_data_partner_ids||[],window._linkedin_data_partner_ids.push(_linkedin_partner_id)</script><script type=\"text/javascript\">!function(){var t=document.getElementsByTagName(\"script\")[0],e=document.createElement(\"script\");e.type=\"text/javascript\",e.async=!0,e.src=\"https://snap.licdn.com/li.lms-analytics/insight.min.js\",e.setAttribute(\"data-ot-ignore\",\"\"),t.parentNode.insertBefore(e,t)}()</script><noscript><img height=\"1\" width=\"1\" style=\"display:none\" alt=\"\" src=\"https://px.ads.linkedin.com/collect/?pid=2725578&fmt=gif\"/></noscript><script type=\"text/javascript\" data-ot-ignore>history.scrollRestoration=\"manual\"</script><script type=\"text/javascript\" class=\"optanon-category-C0007\">var isIE=!!window.document.documentMode;isIE||function(){var e=function(){if(!document.readyState||/loaded|complete/.test(document.readyState)){var t=document.createElement(\"script\");t.setAttribute(\"defer\",\"true\"),t.type=\"text/javascript\",t.src=\"https://static.cdn.prismic.io/prismic.js?repo=snackmagic&new=true\",((document.getElementsByTagName(\"head\")||[null])[0]||document.getElementsByTagName(\"script\")[0].parentNode).appendChild(t)}else setTimeout(e,10)};window.addEventListener?window.addEventListener(\"load\",e,!1):window.attachEvent(\"onload\",e)}()</script><script type=\"application/ld+json\" data-ot-ignore class=\"optanon-category-C0001\">{\\n        \"@context\": \"https://schema.org\",\\n        \"@type\": \"Organization\",\\n        \"name\": \"Snackmagic\",\\n        \"url\": \"https://www.snackmagic.com/\",\\n        \"logo\": \"https://fpa-1.snackmagic.com/static/media/snack-magic-logo.d36f9014.svg\",\\n        \"sameAs\": [\\n          \"https://twitter.com/snackmagic\",\\n          \"https://www.facebook.com/snackmagicco\",\\n          \"https://www.instagram.com/snackmagic\",\\n          \"http://tiktok.com/@snackmagic\",\\n          \"https://www.linkedin.com/company/49167434/\",\\n          \"https://www.youtube.com/channel/UCy45jkK5wJeSzah5yl0vdEQ\"\\n        ],\\n        \"contactPoint\": [\\n          {\\n            \"@type\": \"ContactPoint\",\\n            \"email\": \"hi@snackmagic.com\",\\n            \"url\": \"https://help.snackmagic.com/en/\",\\n            \"contactType\": \"customer support\",\\n            \"areaServed\": \"Global\",\\n            \"availableLanguage\": \"English\"\\n          }\\n        ]\\n      }</script><script type=\"application/ld+json\" data-ot-ignore class=\"optanon-category-C0001\">{\\n        \"@context\": \"https://schema.org/\",\\n        \"@type\": \"WebSite\",\\n        \"name\": \"Snackmagic\",\\n        \"url\": \"https://www.snackmagic.com/\",\\n        \"potentialAction\": {\\n          \"@type\": \"SearchAction\",\\n          \"target\": \"https://www.snackmagic.com/search/{search_term_string}\",\\n          \"query-input\": \"required name=search_term_string\"\\n        }\\n      }</script></body></html>'"
            ],
            "application/vnd.google.colaboratory.intrinsic+json": {
              "type": "string"
            }
          },
          "metadata": {},
          "execution_count": 7
        }
      ]
    },
    {
      "cell_type": "code",
      "source": [],
      "metadata": {
        "id": "TgdfOF1yN1II"
      },
      "execution_count": 8,
      "outputs": []
    },
    {
      "cell_type": "code",
      "source": [
        "# soup.prettify(function is used to arrange he html css code of web page)"
      ],
      "metadata": {
        "id": "kOGbJ9qRO2jM"
      },
      "execution_count": 9,
      "outputs": []
    },
    {
      "cell_type": "code",
      "source": [
        "# to extract all the h1 code of web page use\n",
        "#web page url .find_all(\"h1\")"
      ],
      "metadata": {
        "id": "-NcLFLwOPQlY"
      },
      "execution_count": 10,
      "outputs": []
    },
    {
      "cell_type": "code",
      "source": [
        "# for extacting only text use .text"
      ],
      "metadata": {
        "id": "lw2bVj_6P57u"
      },
      "execution_count": 11,
      "outputs": []
    },
    {
      "cell_type": "code",
      "source": [
        "# for the multiple tags to print out use for loop"
      ],
      "metadata": {
        "id": "_6mGpG7dQTnU"
      },
      "execution_count": 12,
      "outputs": []
    },
    {
      "cell_type": "code",
      "source": [
        "#example for i in soup.find_all(\"h2\"):\n",
        "#print i.text"
      ],
      "metadata": {
        "id": "sxJCkScKQaL6"
      },
      "execution_count": 13,
      "outputs": []
    },
    {
      "cell_type": "code",
      "source": [
        "# use of strip() # use to avoide blank spaces"
      ],
      "metadata": {
        "id": "JLkciAz2QpTK"
      },
      "execution_count": 14,
      "outputs": []
    },
    {
      "cell_type": "code",
      "source": [
        "# for get specofic thing we can use class attribute\n",
        "# as len(soup.find_all(\"p\",class_=\"rating))"
      ],
      "metadata": {
        "id": "JE9GQV-iQw_e"
      },
      "execution_count": 15,
      "outputs": []
    },
    {
      "cell_type": "code",
      "source": [
        "# find_all use when we think we could have multiple output\n",
        "# but if we get single output then use only the find\n",
        "# as use in ratings\n"
      ],
      "metadata": {
        "id": "vjhfDHisRpdG"
      },
      "execution_count": 16,
      "outputs": []
    },
    {
      "cell_type": "code",
      "source": [
        "#if we have not the equal value use try except method as\n",
        "\"\"\"try:\n",
        "   emp.append(i.find_all(\"p\",class_=\"ratings\").text.strip())\n",
        "   except:emp.append(np.nan)\"\"\""
      ],
      "metadata": {
        "colab": {
          "base_uri": "https://localhost:8080/",
          "height": 36
        },
        "id": "pkXSyq72S01_",
        "outputId": "6335d359-22b6-4194-a2ec-d4529db6b964"
      },
      "execution_count": 17,
      "outputs": [
        {
          "output_type": "execute_result",
          "data": {
            "text/plain": [
              "'try:\\n   emp.append(i.find_all(\"p\",class_=\"ratings\").text.strip())\\n   except:emp.append(np.nan)'"
            ],
            "application/vnd.google.colaboratory.intrinsic+json": {
              "type": "string"
            }
          },
          "metadata": {},
          "execution_count": 17
        }
      ]
    },
    {
      "cell_type": "code",
      "source": [],
      "metadata": {
        "id": "hI5L3QlZUks8"
      },
      "execution_count": null,
      "outputs": []
    }
  ]
}