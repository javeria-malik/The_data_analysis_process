{
  "nbformat": 4,
  "nbformat_minor": 0,
  "metadata": {
    "colab": {
      "provenance": []
    },
    "kernelspec": {
      "name": "python3",
      "display_name": "Python 3"
    },
    "language_info": {
      "name": "python"
    }
  },
  "cells": [
    {
      "cell_type": "code",
      "execution_count": 1,
      "metadata": {
        "colab": {
          "base_uri": "https://localhost:8080/"
        },
        "id": "Bbnjo6ZSTuPO",
        "outputId": "e68b3536-9a53-4eb5-eb81-5e35dd434ca7"
      },
      "outputs": [
        {
          "output_type": "stream",
          "name": "stdout",
          "text": [
            "Collecting mysql.connector\n",
            "  Downloading mysql-connector-2.2.9.tar.gz (11.9 MB)\n",
            "\u001b[2K     \u001b[90m━━━━━━━━━━━━━━━━━━━━━━━━━━━━━━━━━━━━━━━━\u001b[0m \u001b[32m11.9/11.9 MB\u001b[0m \u001b[31m68.6 MB/s\u001b[0m eta \u001b[36m0:00:00\u001b[0m\n",
            "\u001b[?25h  Preparing metadata (setup.py) ... \u001b[?25l\u001b[?25hdone\n",
            "Building wheels for collected packages: mysql.connector\n",
            "  Building wheel for mysql.connector (setup.py) ... \u001b[?25l\u001b[?25hdone\n",
            "  Created wheel for mysql.connector: filename=mysql_connector-2.2.9-cp310-cp310-linux_x86_64.whl size=247951 sha256=6fedff425e34a04deea36e4d4b4e95231388a74475c683151a0e30358f11c5df\n",
            "  Stored in directory: /root/.cache/pip/wheels/76/48/9b/da67ff1a18fe8e9d428f9b1a177716d4a7d363d2bbe83bf6cf\n",
            "Successfully built mysql.connector\n",
            "Installing collected packages: mysql.connector\n",
            "Successfully installed mysql.connector-2.2.9\n"
          ]
        }
      ],
      "source": [
        "pip install mysql.connector"
      ]
    },
    {
      "cell_type": "code",
      "source": [
        "import mysql.connector"
      ],
      "metadata": {
        "id": "4QhFoW6cT6bw"
      },
      "execution_count": 2,
      "outputs": []
    },
    {
      "cell_type": "code",
      "source": [
        "\"\"\"mydb=mysql.connector.connect(\n",
        "    host=\"campusxdb-instance.c98zqacq3vgm.us-east-2.rds.amazoneaws.com\",\n",
        "    user=\"root\",\n",
        "    passwd=\"12345678\",\n",
        "    database=\"demodb\"\n",
        ")\"\"\""
      ],
      "metadata": {
        "colab": {
          "base_uri": "https://localhost:8080/",
          "height": 36
        },
        "id": "oQMGuMv6UDm1",
        "outputId": "d6799ce3-a711-4bcc-ee90-cc2522e5aaa6"
      },
      "execution_count": 11,
      "outputs": [
        {
          "output_type": "execute_result",
          "data": {
            "text/plain": [
              "'mydb=mysql.connector.connect(\\n    host=\"campusxdb-instance.c98zqacq3vgm.us-east-2.rds.amazoneaws.com\",\\n    user=\"root\",\\n    passwd=\"12345678\",\\n    database=\"demodb\"\\n)'"
            ],
            "application/vnd.google.colaboratory.intrinsic+json": {
              "type": "string"
            }
          },
          "metadata": {},
          "execution_count": 11
        }
      ]
    },
    {
      "cell_type": "code",
      "source": [
        "# my db is actually a sql connector"
      ],
      "metadata": {
        "id": "9t31OHBvVFMl"
      },
      "execution_count": 4,
      "outputs": []
    },
    {
      "cell_type": "code",
      "source": [
        "# no we use cursor ....... actually the cursor is class\n",
        "# work as  mycursor=mydb.cursor()\n",
        "#type(my cursor)"
      ],
      "metadata": {
        "id": "4vCg5dToXnIE"
      },
      "execution_count": 5,
      "outputs": []
    },
    {
      "cell_type": "code",
      "source": [
        "# fetching data from users\n",
        "#mycursor.execute(\"SELECT *  FROM users\")\n",
        "#mycursor.fetchall()"
      ],
      "metadata": {
        "id": "53BPNvDTX6TH"
      },
      "execution_count": 6,
      "outputs": []
    },
    {
      "cell_type": "code",
      "source": [
        "# all data appear in form of list"
      ],
      "metadata": {
        "id": "dkzFCOMPYWvF"
      },
      "execution_count": 7,
      "outputs": []
    },
    {
      "cell_type": "code",
      "source": [
        "# by writing\n",
        "# for i in data:\n",
        "#    print(i[2],i[3])\n",
        "#it will name from every tuple objects"
      ],
      "metadata": {
        "id": "n8mnLPqLYkLI"
      },
      "execution_count": 8,
      "outputs": []
    },
    {
      "cell_type": "code",
      "source": [
        "# for joining two\n",
        "\"\"\"query=\"\"SELECT fname,task_id,score FROM evalution e JOIN users u ON  u.user_id=e.user id\"\"\"# here first select fisrt last column and score from evalution data and users id from user data"
      ],
      "metadata": {
        "colab": {
          "base_uri": "https://localhost:8080/",
          "height": 36
        },
        "id": "0z72Mnn4ZAfD",
        "outputId": "d49a9172-902a-4dc7-da37-e1d06b62f0cf"
      },
      "execution_count": 9,
      "outputs": [
        {
          "output_type": "execute_result",
          "data": {
            "text/plain": [
              "'query=\"\"SELECT fname,task_id,score FROM evalution e JOIN users u ON  u.user_id=e.user id'"
            ],
            "application/vnd.google.colaboratory.intrinsic+json": {
              "type": "string"
            }
          },
          "metadata": {},
          "execution_count": 9
        }
      ]
    },
    {
      "cell_type": "code",
      "source": [
        "# then steps are\n",
        "#mycursor.execute(query)\n",
        "#data=my_cursor.fetchall()"
      ],
      "metadata": {
        "id": "PQvAhxtvahqX"
      },
      "execution_count": 10,
      "outputs": []
    },
    {
      "cell_type": "code",
      "source": [
        "#from i in data :\n",
        "#print (i) # data will appear"
      ],
      "metadata": {
        "id": "9w6j7-pza5Uv"
      },
      "execution_count": null,
      "outputs": []
    }
  ]
}